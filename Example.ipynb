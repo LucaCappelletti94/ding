{
 "cells": [
  {
   "cell_type": "code",
   "execution_count": 1,
   "id": "c47f0ffd",
   "metadata": {},
   "outputs": [],
   "source": [
    "import ringbell.auto"
   ]
  },
  {
   "cell_type": "markdown",
   "id": "8505d585",
   "metadata": {},
   "source": [
    "Let's use `sleep` to wait a while:"
   ]
  },
  {
   "cell_type": "code",
   "execution_count": 2,
   "id": "41e6d0c2",
   "metadata": {},
   "outputs": [],
   "source": [
    "from time import sleep"
   ]
  },
  {
   "cell_type": "markdown",
   "id": "7b146467",
   "metadata": {},
   "source": [
    "This will play the \"good sound\" 😇"
   ]
  },
  {
   "cell_type": "code",
   "execution_count": 3,
   "id": "4a765f4b",
   "metadata": {},
   "outputs": [],
   "source": [
    "sleep(60)"
   ]
  },
  {
   "cell_type": "markdown",
   "id": "70e83863",
   "metadata": {},
   "source": [
    "This will play the \"bad sound\" 😈"
   ]
  },
  {
   "cell_type": "code",
   "execution_count": 5,
   "id": "070c6692",
   "metadata": {},
   "outputs": [
    {
     "ename": "ZeroDivisionError",
     "evalue": "division by zero",
     "output_type": "error",
     "traceback": [
      "\u001b[0;31m---------------------------------------------------------------------------\u001b[0m",
      "\u001b[0;31mZeroDivisionError\u001b[0m                         Traceback (most recent call last)",
      "\u001b[0;32m/var/folders/22/8r87klw91pj7r5jzplv2bcsc0000gn/T/ipykernel_48936/1791359796.py\u001b[0m in \u001b[0;36m<module>\u001b[0;34m\u001b[0m\n\u001b[1;32m      3\u001b[0m \u001b[0msleep\u001b[0m\u001b[0;34m(\u001b[0m\u001b[0;36m60\u001b[0m\u001b[0;34m)\u001b[0m\u001b[0;34m\u001b[0m\u001b[0;34m\u001b[0m\u001b[0m\n\u001b[1;32m      4\u001b[0m \u001b[0;34m\u001b[0m\u001b[0m\n\u001b[0;32m----> 5\u001b[0;31m \u001b[0;36m0\u001b[0m\u001b[0;34m/\u001b[0m\u001b[0;36m0\u001b[0m\u001b[0;34m\u001b[0m\u001b[0;34m\u001b[0m\u001b[0m\n\u001b[0m",
      "\u001b[0;31mZeroDivisionError\u001b[0m: division by zero"
     ]
    }
   ],
   "source": [
    "from time import sleep\n",
    "\n",
    "sleep(60)\n",
    "\n",
    "0/0"
   ]
  },
  {
   "cell_type": "code",
   "execution_count": null,
   "id": "9abcb896",
   "metadata": {},
   "outputs": [],
   "source": []
  }
 ],
 "metadata": {
  "kernelspec": {
   "display_name": "Python 3 (ipykernel)",
   "language": "python",
   "name": "python3"
  },
  "language_info": {
   "codemirror_mode": {
    "name": "ipython",
    "version": 3
   },
   "file_extension": ".py",
   "mimetype": "text/x-python",
   "name": "python",
   "nbconvert_exporter": "python",
   "pygments_lexer": "ipython3",
   "version": "3.7.13"
  }
 },
 "nbformat": 4,
 "nbformat_minor": 5
}
